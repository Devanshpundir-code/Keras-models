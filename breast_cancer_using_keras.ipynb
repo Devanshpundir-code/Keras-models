{
  "nbformat": 4,
  "nbformat_minor": 0,
  "metadata": {
    "colab": {
      "name": "breast cancer  using keras",
      "provenance": [],
      "collapsed_sections": [],
      "mount_file_id": "1j9gT4K-T6XfU94ai3XyjwiLEsGrWm3DY",
      "authorship_tag": "ABX9TyMo/5ATYDElyfQimXlaKkUV",
      "include_colab_link": true
    },
    "kernelspec": {
      "name": "python3",
      "display_name": "Python 3"
    }
  },
  "cells": [
    {
      "cell_type": "markdown",
      "metadata": {
        "id": "view-in-github",
        "colab_type": "text"
      },
      "source": [
        "<a href=\"https://colab.research.google.com/github/Devanshpundir-code/Keras-models/blob/main/breast_cancer_using_keras.ipynb\" target=\"_parent\"><img src=\"https://colab.research.google.com/assets/colab-badge.svg\" alt=\"Open In Colab\"/></a>"
      ]
    },
    {
      "cell_type": "markdown",
      "metadata": {
        "id": "_pivjzufKb3Z"
      },
      "source": [
        "importing modules "
      ]
    },
    {
      "cell_type": "code",
      "metadata": {
        "id": "AKIlsXypHeYo"
      },
      "source": [
        "import numpy as np\r\n",
        "import pandas as pd\r\n",
        "\r\n",
        "import tensorflow as tf\r\n",
        "from tensorflow import keras\r\n",
        "from keras.models import Sequential\r\n",
        "from keras.layers import Dense, Flatten\r\n",
        "from keras import layers\r\n",
        "\r\n",
        "from sklearn.model_selection import train_test_split\r\n",
        "from sklearn.preprocessing import StandardScaler\r\n",
        "from sklearn.preprocessing import LabelEncoder\r\n",
        "from sklearn import datasets\r\n",
        "from sklearn.datasets import load_breast_cancer"
      ],
      "execution_count": null,
      "outputs": []
    },
    {
      "cell_type": "markdown",
      "metadata": {
        "id": "dRxzZyVrKgNH"
      },
      "source": [
        "loading data"
      ]
    },
    {
      "cell_type": "code",
      "metadata": {
        "id": "WFuCJNM_Ii6x"
      },
      "source": [
        "data = datasets.load_breast_cancer()"
      ],
      "execution_count": null,
      "outputs": []
    },
    {
      "cell_type": "markdown",
      "metadata": {
        "id": "1G8Z6QnOKjTD"
      },
      "source": [
        "splitting into data and target "
      ]
    },
    {
      "cell_type": "code",
      "metadata": {
        "id": "r0f6ZuFVJbap"
      },
      "source": [
        "df_x = pd.DataFrame(data.data, columns=data.feature_names)\r\n",
        "df_y = pd.DataFrame(data.target)"
      ],
      "execution_count": null,
      "outputs": []
    },
    {
      "cell_type": "code",
      "metadata": {
        "id": "FsWKBmnbJpLK"
      },
      "source": [
        "train_x, test_x, train_y, test_y = train_test_split(df_x, df_y , test_size=.2, random_state=4)"
      ],
      "execution_count": null,
      "outputs": []
    },
    {
      "cell_type": "markdown",
      "metadata": {
        "id": "08uoQdGbLRPb"
      },
      "source": [
        "model"
      ]
    },
    {
      "cell_type": "code",
      "metadata": {
        "id": "OqNVg-oiJpnl"
      },
      "source": [
        "model = tf.keras.models.Sequential()\r\n",
        "model.add(layers.Flatten())\r\n",
        "model.add(layers.Dense(128, activation='relu' ))\r\n",
        "model.add(layers.Dense(128, activation='relu' ))\r\n",
        "model.add(layers.Dense(7,activation='softmax'))"
      ],
      "execution_count": null,
      "outputs": []
    },
    {
      "cell_type": "markdown",
      "metadata": {
        "id": "pNIYLcpjQf1R"
      },
      "source": [
        "from the below we can get the number of output should comes."
      ]
    },
    {
      "cell_type": "code",
      "metadata": {
        "id": "gys2gPOxLlKB"
      },
      "source": [
        ""
      ],
      "execution_count": null,
      "outputs": []
    },
    {
      "cell_type": "code",
      "metadata": {
        "colab": {
          "base_uri": "https://localhost:8080/"
        },
        "id": "HZjF-oomN49J",
        "outputId": "5f2ca90f-77a0-4dd2-e65e-9cbdc68cb64c"
      },
      "source": [
        "data.target_names"
      ],
      "execution_count": null,
      "outputs": [
        {
          "output_type": "execute_result",
          "data": {
            "text/plain": [
              "array(['malignant', 'benign'], dtype='<U9')"
            ]
          },
          "metadata": {
            "tags": []
          },
          "execution_count": 19
        }
      ]
    },
    {
      "cell_type": "markdown",
      "metadata": {
        "id": "GNdx3Zn3RBcT"
      },
      "source": [
        "training of data"
      ]
    },
    {
      "cell_type": "code",
      "metadata": {
        "colab": {
          "base_uri": "https://localhost:8080/"
        },
        "id": "dgE618r8PP0d",
        "outputId": "380a5020-1cd3-413b-ab48-dab654543ddb"
      },
      "source": [
        "model.compile(optimizer='Adam', loss='SparseCategoricalCrossentropy', metrics=['accuracy'])\r\n",
        "model.fit(train_x, train_y, epochs=7)"
      ],
      "execution_count": null,
      "outputs": [
        {
          "output_type": "stream",
          "text": [
            "Epoch 1/7\n",
            "15/15 [==============================] - 0s 2ms/step - loss: 5.2557 - accuracy: 0.7311\n",
            "Epoch 2/7\n",
            "15/15 [==============================] - 0s 2ms/step - loss: 1.1477 - accuracy: 0.8709\n",
            "Epoch 3/7\n",
            "15/15 [==============================] - 0s 2ms/step - loss: 0.4047 - accuracy: 0.9350\n",
            "Epoch 4/7\n",
            "15/15 [==============================] - 0s 2ms/step - loss: 0.4841 - accuracy: 0.9240\n",
            "Epoch 5/7\n",
            "15/15 [==============================] - 0s 2ms/step - loss: 0.4942 - accuracy: 0.9366\n",
            "Epoch 6/7\n",
            "15/15 [==============================] - 0s 2ms/step - loss: 0.3976 - accuracy: 0.9160\n",
            "Epoch 7/7\n",
            "15/15 [==============================] - 0s 2ms/step - loss: 0.3025 - accuracy: 0.9443\n"
          ],
          "name": "stdout"
        },
        {
          "output_type": "execute_result",
          "data": {
            "text/plain": [
              "<tensorflow.python.keras.callbacks.History at 0x7fc7d2d1eba8>"
            ]
          },
          "metadata": {
            "tags": []
          },
          "execution_count": 11
        }
      ]
    },
    {
      "cell_type": "code",
      "metadata": {
        "id": "Vcay1tcFPXMA",
        "colab": {
          "base_uri": "https://localhost:8080/"
        },
        "outputId": "0c05a3f9-d45f-4e3c-ff90-a424d999a439"
      },
      "source": [
        "prediction = model.predict(test_x)\r\n",
        "print(\"the predictied value is \" , np.argmax(prediction[1]))            #0 - malignant', '1 - benign\r\n",
        "print(\"the actual value is \", test_y)"
      ],
      "execution_count": null,
      "outputs": [
        {
          "output_type": "stream",
          "text": [
            "the predictied value is  1\n",
            "the actual value is       0\n",
            "340  1\n",
            "382  1\n",
            "300  0\n",
            "262  0\n",
            "363  1\n",
            "..  ..\n",
            "202  0\n",
            "541  1\n",
            "379  0\n",
            "329  0\n",
            "531  1\n",
            "\n",
            "[114 rows x 1 columns]\n"
          ],
          "name": "stdout"
        }
      ]
    },
    {
      "cell_type": "code",
      "metadata": {
        "id": "r304EXbsNgLV"
      },
      "source": [
        ""
      ],
      "execution_count": null,
      "outputs": []
    }
  ]
}
